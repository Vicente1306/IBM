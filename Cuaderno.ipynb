{
 "cells": [
  {
   "cell_type": "markdown",
   "id": "39f1415f",
   "metadata": {},
   "source": [
    "# Data Science Notebook"
   ]
  },
  {
   "cell_type": "markdown",
   "id": "2dd24b62",
   "metadata": {},
   "source": [
    "## Introduction\n",
    "This notebook contains examples and exercises related to data science."
   ]
  },
  {
   "cell_type": "markdown",
   "id": "bb878b4b",
   "metadata": {},
   "source": [
    "## Programming Languages in Data Science\n",
    "1. Python\n",
    "2. R\n",
    "3. Julia\n",
    "4. SQL\n",
    "5. Scala"
   ]
  },
  {
   "cell_type": "markdown",
   "id": "cc9e0874",
   "metadata": {},
   "source": [
    "## Data Science Libraries\n",
    "- Pandas\n",
    "- NumPy\n",
    "- Matplotlib\n",
    "- Scikit-learn\n",
    "- TensorFlow\n",
    "- PyTorch"
   ]
  },
  {
   "cell_type": "markdown",
   "id": "916835f8",
   "metadata": {},
   "source": [
    "## Data Science Tools\n",
    "\n",
    "| Tool              | Description |\n",
    "|-------------------|-------------|\n",
    "| Jupyter Notebook | Interactive environment for Python code |\n",
    "| RStudio          | IDE for R |\n",
    "| Google Colab     | Cloud-based Jupyter Notebooks |\n",
    "| Apache Spark     | Distributed data processing |\n",
    "| Tableau          | Data visualization |"
   ]
  },
  {
   "cell_type": "markdown",
   "id": "aa27ced5",
   "metadata": {},
   "source": [
    "## Examples of Arithmetic Expressions\n",
    "Here are some basic arithmetic operations in Python:\n",
    "\n",
    "```\n",
    "3 + 5  # Addition\n",
    "7 - 2  # Subtraction\n",
    "4 * 6  # Multiplication\n",
    "8 / 2  # Division\n",
    "```"
   ]
  },
  {
   "cell_type": "code",
   "execution_count": 1,
   "id": "71e3e473",
   "metadata": {},
   "outputs": [
    {
     "name": "stdout",
     "output_type": "stream",
     "text": [
      "Addition: 8, Multiplication: 15\n"
     ]
    }
   ],
   "source": [
    "a = 5\n",
    "b = 3\n",
    "addition = a + b\n",
    "multiplication = a * b\n",
    "print(f'Addition: {addition}, Multiplication: {multiplication}')"
   ]
  },
  {
   "cell_type": "code",
   "execution_count": 2,
   "id": "545d23a7",
   "metadata": {},
   "outputs": [
    {
     "name": "stdout",
     "output_type": "stream",
     "text": [
      "120 minutes is equivalent to 2.0 hours\n"
     ]
    }
   ],
   "source": [
    "minutes = 120\n",
    "hours = minutes / 60\n",
    "print(f'{minutes} minutes is equivalent to {hours} hours')"
   ]
  },
  {
   "cell_type": "code",
   "execution_count": 3,
   "id": "cd4d9c0c",
   "metadata": {},
   "outputs": [
    {
     "name": "stdout",
     "output_type": "stream",
     "text": [
      "- Learn Python\n",
      "- Understand Data Science libraries\n",
      "- Create visualizations\n",
      "- Develop Machine Learning models\n"
     ]
    }
   ],
   "source": [
    "objectives = ['Learn Python', 'Understand Data Science libraries', 'Create visualizations', 'Develop Machine Learning models']\n",
    "for obj in objectives:\n",
    "    print(f'- {obj}')"
   ]
  },
  {
   "cell_type": "markdown",
   "id": "ffacaf75",
   "metadata": {},
   "source": [
    "## Author\n"
   ]
  },
  {
   "cell_type": "markdown",
   "id": "032960bc",
   "metadata": {},
   "source": [
    "Vicente Isla Soto"
   ]
  }
 ],
 "metadata": {
  "kernelspec": {
   "display_name": "Python 3",
   "language": "python",
   "name": "python3"
  },
  "language_info": {
   "codemirror_mode": {
    "name": "ipython",
    "version": 3
   },
   "file_extension": ".py",
   "mimetype": "text/x-python",
   "name": "python",
   "nbconvert_exporter": "python",
   "pygments_lexer": "ipython3",
   "version": "3.9.6"
  }
 },
 "nbformat": 4,
 "nbformat_minor": 5
}
